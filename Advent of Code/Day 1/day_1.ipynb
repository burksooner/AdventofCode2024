{
 "cells": [
  {
   "cell_type": "code",
   "execution_count": 65,
   "metadata": {},
   "outputs": [
    {
     "data": {
      "text/html": [
       "<div>\n",
       "<style scoped>\n",
       "    .dataframe tbody tr th:only-of-type {\n",
       "        vertical-align: middle;\n",
       "    }\n",
       "\n",
       "    .dataframe tbody tr th {\n",
       "        vertical-align: top;\n",
       "    }\n",
       "\n",
       "    .dataframe thead th {\n",
       "        text-align: right;\n",
       "    }\n",
       "</style>\n",
       "<table border=\"1\" class=\"dataframe\">\n",
       "  <thead>\n",
       "    <tr style=\"text-align: right;\">\n",
       "      <th></th>\n",
       "      <th>locID1</th>\n",
       "      <th>locID2</th>\n",
       "    </tr>\n",
       "  </thead>\n",
       "  <tbody>\n",
       "    <tr>\n",
       "      <th>0</th>\n",
       "      <td>56208</td>\n",
       "      <td>95668</td>\n",
       "    </tr>\n",
       "    <tr>\n",
       "      <th>1</th>\n",
       "      <td>52621</td>\n",
       "      <td>74203</td>\n",
       "    </tr>\n",
       "    <tr>\n",
       "      <th>2</th>\n",
       "      <td>95252</td>\n",
       "      <td>33335</td>\n",
       "    </tr>\n",
       "    <tr>\n",
       "      <th>3</th>\n",
       "      <td>79799</td>\n",
       "      <td>26047</td>\n",
       "    </tr>\n",
       "    <tr>\n",
       "      <th>4</th>\n",
       "      <td>88005</td>\n",
       "      <td>37435</td>\n",
       "    </tr>\n",
       "    <tr>\n",
       "      <th>...</th>\n",
       "      <td>...</td>\n",
       "      <td>...</td>\n",
       "    </tr>\n",
       "    <tr>\n",
       "      <th>995</th>\n",
       "      <td>53455</td>\n",
       "      <td>38875</td>\n",
       "    </tr>\n",
       "    <tr>\n",
       "      <th>996</th>\n",
       "      <td>66703</td>\n",
       "      <td>40727</td>\n",
       "    </tr>\n",
       "    <tr>\n",
       "      <th>997</th>\n",
       "      <td>76244</td>\n",
       "      <td>92842</td>\n",
       "    </tr>\n",
       "    <tr>\n",
       "      <th>998</th>\n",
       "      <td>87526</td>\n",
       "      <td>49664</td>\n",
       "    </tr>\n",
       "    <tr>\n",
       "      <th>999</th>\n",
       "      <td>92147</td>\n",
       "      <td>87526</td>\n",
       "    </tr>\n",
       "  </tbody>\n",
       "</table>\n",
       "<p>1000 rows × 2 columns</p>\n",
       "</div>"
      ],
      "text/plain": [
       "     locID1  locID2\n",
       "0     56208   95668\n",
       "1     52621   74203\n",
       "2     95252   33335\n",
       "3     79799   26047\n",
       "4     88005   37435\n",
       "..      ...     ...\n",
       "995   53455   38875\n",
       "996   66703   40727\n",
       "997   76244   92842\n",
       "998   87526   49664\n",
       "999   92147   87526\n",
       "\n",
       "[1000 rows x 2 columns]"
      ]
     },
     "execution_count": 65,
     "metadata": {},
     "output_type": "execute_result"
    }
   ],
   "source": [
    "import pandas as pd\n",
    "\n",
    "# For a text file with two columns separated by whitespace,\n",
    "df = pd.read_csv('day_1_inputs.txt', \n",
    "                 delim_whitespace=True,  # Use whitespace as delimiter\n",
    "                 header=None,  # No header row\n",
    "                 names=['locID1', 'locID2'])  # Give columns names\n",
    "\n",
    "df"
   ]
  },
  {
   "cell_type": "code",
   "execution_count": 51,
   "metadata": {},
   "outputs": [],
   "source": [
    "# Example text to test\n",
    "df = pd.DataFrame({\n",
    "    'locID1': [3, 4, 2, 1, 3, 3],\n",
    "    'locID2': [4, 3, 5, 3, 9, 3]\n",
    "})"
   ]
  },
  {
   "cell_type": "code",
   "execution_count": 41,
   "metadata": {},
   "outputs": [
    {
     "data": {
      "text/plain": [
       "11"
      ]
     },
     "execution_count": 41,
     "metadata": {},
     "output_type": "execute_result"
    }
   ],
   "source": [
    "# sort each column from lowest to highest independently\n",
    "df_sorted1 = df['locID1'].sort_values().reset_index(drop=True)\n",
    "df_sorted2 = df['locID2'].sort_values().reset_index(drop=True)\n",
    "\n",
    "# add a third column that is the difference between the two columns\n",
    "df_diff = abs(df_sorted1 - df_sorted2)\n",
    "\n",
    "total_diff = df_diff.sum()\n",
    "\n",
    "total_diff"
   ]
  },
  {
   "cell_type": "markdown",
   "metadata": {},
   "source": [
    "`2285373` was the correct number"
   ]
  },
  {
   "cell_type": "markdown",
   "metadata": {},
   "source": [
    "Part Two"
   ]
  },
  {
   "cell_type": "code",
   "execution_count": 66,
   "metadata": {},
   "outputs": [
    {
     "data": {
      "text/plain": [
       "21142653"
      ]
     },
     "execution_count": 66,
     "metadata": {},
     "output_type": "execute_result"
    }
   ],
   "source": [
    "# Create a Series that counts how many times each va